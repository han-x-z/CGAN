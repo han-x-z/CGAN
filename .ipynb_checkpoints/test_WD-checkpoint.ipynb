{
 "cells": [
  {
   "cell_type": "code",
   "execution_count": 1,
   "id": "9aafd424-9928-421c-be17-d36b5214d5de",
   "metadata": {},
   "outputs": [],
   "source": [
    "import torch\n",
    "import torchvision\n",
    "import torchvision.transforms as transforms\n",
    "import matplotlib.pyplot as plt\n",
    "import numpy as np\n",
    "import torch\n",
    "import torch.nn as nn\n",
    "import torch.optim as optim\n",
    "import numpy as np\n",
    "from resnet18_32x32 import ResNet18_32x32\n",
    "import torch.nn.functional as F\n",
    "\n",
    "from scipy.stats import wasserstein_distance\n",
    "\n",
    "\n",
    "\n",
    "from torchvision import transforms\n",
    "\n",
    "from sklearn.manifold import TSNE\n"
   ]
  },
  {
   "cell_type": "code",
   "execution_count": 2,
   "id": "fe89f73a-f68b-496d-9b44-ac2ecf9b53c0",
   "metadata": {},
   "outputs": [
    {
     "name": "stdout",
     "output_type": "stream",
     "text": [
      "Files already downloaded and verified\n"
     ]
    }
   ],
   "source": [
    "# 加载训练好的模型\n",
    "model = ResNet18_32x32()\n",
    "model.load_state_dict(torch.load('./resnet/model.pth'))\n",
    "output = \"./output_prob\"\n",
    "\n",
    "\n",
    "# 加载CIFAR-10数据集\n",
    "transform = transforms.Compose(\n",
    "    [transforms.ToTensor(),\n",
    "     transforms.Normalize((0.5, 0.5, 0.5), (0.5, 0.5, 0.5))])\n",
    "\n",
    "testset = torchvision.datasets.CIFAR10(root='./data', train=False,\n",
    "                                       download=True, transform=transform)\n",
    "testloader = torch.utils.data.DataLoader(testset, batch_size=1,\n",
    "                                         shuffle=False, num_workers=2)\n",
    "\n",
    "\n",
    "\n",
    "# 使用模型预测类别概率分布\n",
    "device = torch.device(\"cuda\" if torch.cuda.is_available() else \"cpu\")\n",
    "model = model.to(device)\n"
   ]
  },
  {
   "cell_type": "code",
   "execution_count": 3,
   "id": "0329455f-a95c-4b67-8c5b-44cb32f32124",
   "metadata": {},
   "outputs": [],
   "source": [
    "test_probabilities = []\n",
    "with torch.no_grad():\n",
    "    for images, labels in testloader:\n",
    "        images = images.to(device)\n",
    "        \n",
    "        outputs = model(images)\n",
    "        probabilities = F.softmax(outputs, dim=1)\n",
    "        test_probabilities.append(probabilities)\n",
    "\n",
    "test_probabilities = torch.cat(test_probabilities, dim=0).cpu().numpy()"
   ]
  },
  {
   "cell_type": "code",
   "execution_count": 30,
   "id": "c464923d-ac33-497c-af69-b7db8c288bc5",
   "metadata": {},
   "outputs": [
    {
     "name": "stdout",
     "output_type": "stream",
     "text": [
      "Files already downloaded and verified\n"
     ]
    }
   ],
   "source": [
    "# 加载训练集和测试集\n",
    "trainset = torchvision.datasets.CIFAR10(root='./data', train=True, download=True, transform=transform)\n",
    "trainloader = torch.utils.data.DataLoader(trainset, batch_size=1, shuffle=False, num_workers=2)\n",
    "\n",
    "# 使用模型预测类别概率分布\n",
    "device = torch.device(\"cuda\" if torch.cuda.is_available() else \"cpu\")\n",
    "model = model.to(device)"
   ]
  },
  {
   "cell_type": "code",
   "execution_count": 31,
   "id": "4704354f-077d-42e0-9a0e-0c49de13f6eb",
   "metadata": {},
   "outputs": [],
   "source": [
    "\n",
    "train_probabilities = []\n",
    "count = 0\n",
    "\n",
    "with torch.no_grad():\n",
    "    for images, labels in trainloader:\n",
    "        images = images.to(device)\n",
    "        outputs = model(images)\n",
    "        probabilities = F.softmax(outputs, dim=1)\n",
    "        train_probabilities.append(probabilities)\n",
    "        \n",
    "        count += images.size(0)\n",
    "        if count >= 10000:\n",
    "            break\n",
    "\n",
    "train_probabilities = torch.cat(train_probabilities, dim=0).cpu().numpy()"
   ]
  },
  {
   "cell_type": "code",
   "execution_count": 20,
   "id": "0f18b408-c632-464d-9665-727388249157",
   "metadata": {},
   "outputs": [],
   "source": [
    "latent_dim = 100\n",
    "num_classes = 10\n",
    "lr = 0.0002\n",
    "batch_size = 1\n",
    "num_epochs = 20\n",
    "num_samples = 10000    \n",
    "    \n",
    "class Generator(nn.Module):\n",
    "    def __init__(self, latent_dim, num_classes):\n",
    "        super(Generator, self).__init__()\n",
    "        self.label_embed = nn.Embedding(num_classes, latent_dim)\n",
    "        self.generator = nn.Sequential(\n",
    "            nn.Linear(latent_dim * 2, 128),  # 将噪音维度加入生成器输入维度\n",
    "            nn.LeakyReLU(0.2, inplace=True),\n",
    "            nn.Linear(128, 256),\n",
    "            nn.LeakyReLU(0.2, inplace=True),\n",
    "            nn.Linear(256, 512),\n",
    "            nn.LeakyReLU(0.2, inplace=True),\n",
    "            nn.Linear(512, num_classes),\n",
    "            nn.Softmax(dim=1)\n",
    "        )\n",
    "    \n",
    "    def forward(self, labels, noise):\n",
    "        gen_input = self.label_embed(labels)\n",
    "        gen_input_with_noise = torch.cat((gen_input, noise), dim=1)  # 将噪音和标签嵌入向量连接起来\n",
    "        class_probs = self.generator(gen_input_with_noise)\n",
    "        return class_probs"
   ]
  },
  {
   "cell_type": "code",
   "execution_count": 24,
   "id": "3f1b4dd7-089c-4069-92f4-02e86017a8f0",
   "metadata": {},
   "outputs": [
    {
     "data": {
      "text/plain": [
       "Generator(\n",
       "  (label_embed): Embedding(10, 100)\n",
       "  (generator): Sequential(\n",
       "    (0): Linear(in_features=200, out_features=128, bias=True)\n",
       "    (1): LeakyReLU(negative_slope=0.2, inplace=True)\n",
       "    (2): Linear(in_features=128, out_features=256, bias=True)\n",
       "    (3): LeakyReLU(negative_slope=0.2, inplace=True)\n",
       "    (4): Linear(in_features=256, out_features=512, bias=True)\n",
       "    (5): LeakyReLU(negative_slope=0.2, inplace=True)\n",
       "    (6): Linear(in_features=512, out_features=10, bias=True)\n",
       "    (7): Softmax(dim=1)\n",
       "  )\n",
       ")"
      ]
     },
     "execution_count": 24,
     "metadata": {},
     "output_type": "execute_result"
    }
   ],
   "source": [
    "# 加载生成模型\n",
    "generator = Generator(latent_dim, num_classes).to(device)\n",
    "generator.load_state_dict(torch.load('./output/generator_100+20.pth'))  # 将X替换为你想要加载的模型的epoch数\n",
    "generated_probs = []\n",
    "\n",
    "# 测试生成器\n",
    "generator.eval()"
   ]
  },
  {
   "cell_type": "code",
   "execution_count": 25,
   "id": "30614212-c935-4b0e-8589-7383a1ac766e",
   "metadata": {},
   "outputs": [],
   "source": [
    "generator_probabilities = []\n",
    "with torch.no_grad():\n",
    "    for _ in range(num_samples):\n",
    "        labels = torch.randint(0, num_classes, (batch_size,), device=device)\n",
    "        noise = torch.randn(batch_size, latent_dim, device=device)\n",
    "        generated_probabilities = generator(labels, noise)\n",
    "        \n",
    "        generator_probabilities.append(generated_probabilities)\n",
    "\n",
    "generator_probabilities = torch.cat(generator_probabilities, dim=0).cpu().numpy()"
   ]
  },
  {
   "cell_type": "code",
   "execution_count": 26,
   "id": "5d128d9e-d531-4549-931e-ad8d3114eb0d",
   "metadata": {},
   "outputs": [
    {
     "name": "stdout",
     "output_type": "stream",
     "text": [
      "Wasserstein Distance: 0.147286714936839341\n"
     ]
    }
   ],
   "source": [
    "\n",
    "wasserstein_dist = wasserstein_distance(test_probabilities.flatten(), generator_probabilities.flatten())\n",
    "print('Wasserstein Distance: {:.18f}'.format(wasserstein_dist))\n",
    "\n"
   ]
  },
  {
   "cell_type": "code",
   "execution_count": null,
   "id": "a1ce0fff-7aaf-41e4-a8e3-5caf9b637d3f",
   "metadata": {},
   "outputs": [],
   "source": []
  },
  {
   "cell_type": "code",
   "execution_count": null,
   "id": "b33f586e-7a20-4bd8-9466-7fbaf7b02494",
   "metadata": {},
   "outputs": [],
   "source": []
  }
 ],
 "metadata": {
  "kernelspec": {
   "display_name": "Python 3 (ipykernel)",
   "language": "python",
   "name": "python3"
  },
  "language_info": {
   "codemirror_mode": {
    "name": "ipython",
    "version": 3
   },
   "file_extension": ".py",
   "mimetype": "text/x-python",
   "name": "python",
   "nbconvert_exporter": "python",
   "pygments_lexer": "ipython3",
   "version": "3.9.18"
  }
 },
 "nbformat": 4,
 "nbformat_minor": 5
}
