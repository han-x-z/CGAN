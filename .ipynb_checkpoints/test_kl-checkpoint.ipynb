{
 "cells": [
  {
   "cell_type": "code",
   "execution_count": 3,
   "id": "67ee3873-972b-492e-abb8-732ceef5cf22",
   "metadata": {},
   "outputs": [],
   "source": [
    "import torch\n",
    "import torchvision\n",
    "import torchvision.transforms as transforms\n",
    "import matplotlib.pyplot as plt\n",
    "import numpy as np\n",
    "import torch\n",
    "import torch.nn as nn\n",
    "import torch.optim as optim\n",
    "import numpy as np\n",
    "from resnet18_32x32 import ResNet18_32x32\n",
    "import torch.nn.functional as F\n",
    "from scipy.stats import wasserstein_distance\n",
    "\n",
    "from torchvision import transforms\n",
    "\n",
    "from sklearn.manifold import TSNE\n"
   ]
  },
  {
   "cell_type": "code",
   "execution_count": 4,
   "id": "db7e92db-c271-4a4b-8d28-d74d78e24d88",
   "metadata": {},
   "outputs": [
    {
     "name": "stdout",
     "output_type": "stream",
     "text": [
      "Files already downloaded and verified\n"
     ]
    }
   ],
   "source": [
    "# 加载训练好的模型\n",
    "model = ResNet18_32x32()\n",
    "model.load_state_dict(torch.load('./resnet/best.ckpt'))\n",
    "output = \"./output_prob\"\n",
    "\n",
    "\n",
    "# 加载CIFAR-10数据集\n",
    "transform = transforms.Compose(\n",
    "    [transforms.ToTensor(),\n",
    "     transforms.Normalize((0.5, 0.5, 0.5), (0.5, 0.5, 0.5))])\n",
    "\n",
    "testset = torchvision.datasets.CIFAR10(root='./data', train=False,\n",
    "                                       download=True, transform=transform)\n",
    "testloader = torch.utils.data.DataLoader(testset, batch_size=1,\n",
    "                                         shuffle=False, num_workers=2)\n",
    "\n",
    "\n",
    "\n",
    "# 使用模型预测类别概率分布\n",
    "device = torch.device(\"cuda\" if torch.cuda.is_available() else \"cpu\")\n",
    "model = model.to(device)\n"
   ]
  },
  {
   "cell_type": "code",
   "execution_count": 5,
   "id": "e5a67fb4-35b7-4c27-89f3-47cbc48dbdcc",
   "metadata": {},
   "outputs": [],
   "source": [
    "def kl_divergence(p, q):\n",
    "    return F.kl_div(p.log_softmax(dim=1), q.softmax(dim=1), reduction='batchmean')"
   ]
  },
  {
   "cell_type": "code",
   "execution_count": 6,
   "id": "83b3e77f-2a7f-46c1-80ce-04425f6a7674",
   "metadata": {},
   "outputs": [],
   "source": [
    "test_probabilities = []\n",
    "with torch.no_grad():\n",
    "    for images, labels in testloader:\n",
    "        images = images.to(device)\n",
    "        outputs = model(images)\n",
    "        probabilities = F.softmax(outputs, dim=1)\n",
    "        test_probabilities.append(probabilities)\n",
    "\n",
    "test_probabilities = torch.cat(test_probabilities, dim=0)"
   ]
  },
  {
   "cell_type": "code",
   "execution_count": 7,
   "id": "77f08dde-3eac-4da0-93a7-a5492fe795da",
   "metadata": {},
   "outputs": [
    {
     "name": "stdout",
     "output_type": "stream",
     "text": [
      "Files already downloaded and verified\n"
     ]
    }
   ],
   "source": [
    "# 加载训练集和测试集\n",
    "trainset = torchvision.datasets.CIFAR10(root='./data', train=True, download=True, transform=transform)\n",
    "trainloader = torch.utils.data.DataLoader(trainset, batch_size=1, shuffle=False, num_workers=2)\n",
    "\n",
    "# 使用模型预测类别概率分布\n",
    "device = torch.device(\"cuda\" if torch.cuda.is_available() else \"cpu\")\n",
    "model = model.to(device)"
   ]
  },
  {
   "cell_type": "code",
   "execution_count": 8,
   "id": "1ee80442-ced4-42da-9aa6-ad00f4f32833",
   "metadata": {},
   "outputs": [],
   "source": [
    "train_probabilities = []\n",
    "count = 0\n",
    "\n",
    "with torch.no_grad():\n",
    "    for images, labels in trainloader:\n",
    "        images = images.to(device)\n",
    "        outputs = model(images)\n",
    "        probabilities = F.softmax(outputs, dim=1)\n",
    "        train_probabilities.append(probabilities)\n",
    "        \n",
    "        count += images.size(0)\n",
    "        if count >= 10000:\n",
    "            break\n",
    "\n",
    "train_probabilities = torch.cat(train_probabilities, dim=0)"
   ]
  },
  {
   "cell_type": "code",
   "execution_count": 9,
   "id": "58ec7687-92bf-491c-8444-50544651c405",
   "metadata": {},
   "outputs": [],
   "source": [
    "latent_dim = 100\n",
    "num_classes = 10\n",
    "lr = 0.0002\n",
    "batch_size = 1\n",
    "num_epochs = 20\n",
    "num_samples = 10000    \n",
    "    \n",
    "class Generator(nn.Module):\n",
    "    def __init__(self, latent_dim, num_classes):\n",
    "        super(Generator, self).__init__()\n",
    "        self.label_embed = nn.Embedding(num_classes, latent_dim)\n",
    "        self.generator = nn.Sequential(\n",
    "            nn.Linear(latent_dim * 2, 128),  # 将噪音维度加入生成器输入维度\n",
    "            nn.LeakyReLU(0.2, inplace=True),\n",
    "            nn.Linear(128, 256),\n",
    "            nn.LeakyReLU(0.2, inplace=True),\n",
    "            nn.Linear(256, 512),\n",
    "            nn.LeakyReLU(0.2, inplace=True),\n",
    "            nn.Linear(512, num_classes),\n",
    "            nn.Softmax(dim=1)\n",
    "        )\n",
    "    \n",
    "    def forward(self, labels, noise):\n",
    "        gen_input = self.label_embed(labels)\n",
    "        gen_input_with_noise = torch.cat((gen_input, noise), dim=1)  # 将噪音和标签嵌入向量连接起来\n",
    "        class_probs = self.generator(gen_input_with_noise)\n",
    "        return class_probs"
   ]
  },
  {
   "cell_type": "code",
   "execution_count": 10,
   "id": "341d16c7-5d3a-4927-9d6f-a4250637d48c",
   "metadata": {},
   "outputs": [
    {
     "data": {
      "text/plain": [
       "Generator(\n",
       "  (label_embed): Embedding(10, 100)\n",
       "  (generator): Sequential(\n",
       "    (0): Linear(in_features=200, out_features=128, bias=True)\n",
       "    (1): LeakyReLU(negative_slope=0.2, inplace=True)\n",
       "    (2): Linear(in_features=128, out_features=256, bias=True)\n",
       "    (3): LeakyReLU(negative_slope=0.2, inplace=True)\n",
       "    (4): Linear(in_features=256, out_features=512, bias=True)\n",
       "    (5): LeakyReLU(negative_slope=0.2, inplace=True)\n",
       "    (6): Linear(in_features=512, out_features=10, bias=True)\n",
       "    (7): Softmax(dim=1)\n",
       "  )\n",
       ")"
      ]
     },
     "execution_count": 10,
     "metadata": {},
     "output_type": "execute_result"
    }
   ],
   "source": [
    "# 加载生成模型\n",
    "generator = Generator(latent_dim, num_classes).to(device)\n",
    "generator.load_state_dict(torch.load('./output/best/16/generator60.pth'))  # 将X替换为你想要加载的模型的epoch数\n",
    "generated_probs = []\n",
    "# 测试生成器\n",
    "generator.eval()"
   ]
  },
  {
   "cell_type": "code",
   "execution_count": 11,
   "id": "8f3d4864-2f39-41aa-ba07-e4931b6399a3",
   "metadata": {},
   "outputs": [],
   "source": [
    "generator_probabilities = []\n",
    "with torch.no_grad():\n",
    "    for _ in range(num_samples):\n",
    "        labels = torch.randint(0, num_classes, (batch_size,), device=device)\n",
    "        noise = torch.randn(batch_size, latent_dim, device=device)\n",
    "        generated_probabilities = generator(labels, noise)\n",
    "        generator_probabilities.append(generated_probabilities)\n",
    "\n",
    "generator_probabilities = torch.cat(generator_probabilities, dim=0)"
   ]
  },
  {
   "cell_type": "code",
   "execution_count": 12,
   "id": "7eb46857-5398-40b0-b1c1-b5fd081efdcc",
   "metadata": {},
   "outputs": [
    {
     "name": "stdout",
     "output_type": "stream",
     "text": [
      "KL Divergence: 0.057970494031906128\n"
     ]
    }
   ],
   "source": [
    "kl_div = kl_divergence(generator_probabilities, test_probabilities)\n",
    "print('KL Divergence: {:.18f}'.format(kl_div.item()))"
   ]
  },
  {
   "cell_type": "code",
   "execution_count": null,
   "id": "a1f17d89-9ecf-4d37-b886-89505cecdc35",
   "metadata": {},
   "outputs": [],
   "source": []
  },
  {
   "cell_type": "code",
   "execution_count": null,
   "id": "e031e9ce-5f4d-4f24-935a-b87a9e957f4f",
   "metadata": {},
   "outputs": [],
   "source": []
  }
 ],
 "metadata": {
  "kernelspec": {
   "display_name": "Python 3 (ipykernel)",
   "language": "python",
   "name": "python3"
  },
  "language_info": {
   "codemirror_mode": {
    "name": "ipython",
    "version": 3
   },
   "file_extension": ".py",
   "mimetype": "text/x-python",
   "name": "python",
   "nbconvert_exporter": "python",
   "pygments_lexer": "ipython3",
   "version": "3.9.18"
  }
 },
 "nbformat": 4,
 "nbformat_minor": 5
}
